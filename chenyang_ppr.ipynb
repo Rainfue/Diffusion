{
 "cells": [
  {
   "cell_type": "markdown",
   "id": "0a12351c",
   "metadata": {},
   "source": [
    "# **Diffusion models from scratch, from a new theoretical perspective**"
   ]
  },
  {
   "cell_type": "markdown",
   "id": "3b4c4180",
   "metadata": {},
   "source": [
    "**Diffusion models trained by:**\n",
    "\n",
    "1. Sampling $x_0 \\sim K$ noise level $\\sigma \\sim [\\sigma_{min},\\sigma_{max}]$, noise $\\epsilon \\sim N(0, I)$\n",
    "2. Generating noisy data $x_{\\sigma} = x_0 + \\sigma \\epsilon$\n",
    "3. Prediction $\\epsilon$ (direction of noise) from $x_{\\sigma}$ by minimizing squared loss"
   ]
  },
  {
   "cell_type": "code",
   "execution_count": 18,
   "id": "213c116d",
   "metadata": {},
   "outputs": [],
   "source": [
    "import math\n",
    "from itertools import pairwise\n",
    "\n",
    "import numpy as np\n",
    "import matplotlib.pyplot as plt\n",
    "\n",
    "import torch\n",
    "from torch import nn\n",
    "from torch.utils.data import TensorDataset, DataLoader\n"
   ]
  },
  {
   "cell_type": "code",
   "execution_count": 7,
   "id": "22e5c7f2",
   "metadata": {},
   "outputs": [],
   "source": [
    "class Schedule():\n",
    "    def __init__(self, sigmas: torch.FloatTensor):\n",
    "        self.sigmas = sigmas\n",
    "\n",
    "    def __getitem__(self, i) -> torch.FloatTensor:\n",
    "        return self.sigmas[i]\n",
    "    \n",
    "    def __len__(self) -> int:\n",
    "        return len(self.sigmas)\n",
    "    \n",
    "    def sample_batch(self, x0: torch.FloatTensor) -> torch.FloatTensor:\n",
    "        return self[torch.randint(len(self), (x0.shape[0],))].to(x0)"
   ]
  },
  {
   "cell_type": "code",
   "execution_count": 9,
   "id": "0747ded0",
   "metadata": {},
   "outputs": [],
   "source": [
    "class ScheduleLogLinear(Schedule):\n",
    "    def __init__(self,\n",
    "                 N: int,\n",
    "                 sigma_min: float = 0.02,\n",
    "                 sigma_max: float = 10):\n",
    "        \n",
    "        super().__init__(torch.logspace(\n",
    "            math.log10(sigma_max, N)\n",
    "        ))"
   ]
  },
  {
   "cell_type": "code",
   "execution_count": 6,
   "id": "6b88f66c",
   "metadata": {},
   "outputs": [],
   "source": [
    "def generate_train_sample(\n",
    "                        x0: torch.FloatTensor,\n",
    "                        schedule: Schedule):\n",
    "    sigma = schedule.sample_batch(x0)\n",
    "    eps = torch.randn_like(x0)\n",
    "    return sigma, eps"
   ]
  },
  {
   "cell_type": "code",
   "execution_count": 5,
   "id": "d1df400b",
   "metadata": {},
   "outputs": [],
   "source": [
    "def training_loop(\n",
    "                loader: DataLoader,\n",
    "                model: nn.Module,\n",
    "                schedule: Schedule,\n",
    "                epochs: int = 10000):\n",
    "    \n",
    "    optimizer = torch.optim.Adam(model.parameters())\n",
    "    for _ in range(epochs):\n",
    "        for x0 in loader:\n",
    "            optimizer.zero_grad()\n",
    "            sigma, eps = generate_train_sample(x0, schedule)\n",
    "            eps_hat = model(x0 + sigma * eps, sigma)\n",
    "            loss = nn.MSELoss()(eps_hat, eps)\n",
    "            optimizer.backward(loss)\n",
    "            optimizer.step()\n",
    "\n"
   ]
  },
  {
   "cell_type": "code",
   "execution_count": 16,
   "id": "34787730",
   "metadata": {},
   "outputs": [
    {
     "data": {
      "image/png": "[encoded data removed]",
      "text/plain": [
       "<Figure size 640x480 with 1 Axes>"
      ]
     },
     "metadata": {},
     "output_type": "display_data"
    }
   ],
   "source": [
    "def swissroll(n_samples=1000, start=np.pi/2, stop=5*np.pi, noise=0.1):\n",
    "    \"\"\"Generates a 2D Swiss Roll (spiral).\"\"\"\n",
    "    t = np.linspace(start, stop, n_samples)\n",
    "    x = t * np.cos(t)\n",
    "    y = t * np.sin(t)\n",
    "    X = np.column_stack((x, y))\n",
    "    X += noise * np.random.randn(*X.shape)  # Add noise\n",
    "    return X\n",
    "\n",
    "# Generate data\n",
    "X = swissroll(n_samples=100, start=np.pi/2, stop=5*np.pi)\n",
    "\n",
    "# Normalize (optional but recommended)\n",
    "X = (X - X.mean(axis=0)) / X.std(axis=0)\n",
    "\n",
    "# Convert to PyTorch Dataset\n",
    "dataset = TensorDataset(torch.from_numpy(X).float())\n",
    "loader = DataLoader(dataset, batch_size=2048, shuffle=True)\n",
    "\n",
    "# Visualize\n",
    "plt.scatter(X[:, 0], X[:, 1], alpha=0.5)\n",
    "plt.title('Swissroll toy dataset')\n",
    "plt.show()"
   ]
  },
  {
   "cell_type": "markdown",
   "id": "7c903ba8",
   "metadata": {},
   "source": [
    "For this simple dataset, we can implement the denoiser using a `multi-layer perceptron` (MLP)"
   ]
  },
  {
   "cell_type": "code",
   "execution_count": 17,
   "id": "116d9b90",
   "metadata": {},
   "outputs": [],
   "source": [
    "def get_sigma_embeds(sigma):\n",
    "    sigma = sigma.unsqueeze(1)\n",
    "    return torch.cat([\n",
    "        torch.sin(torch.log(sigma)/2),\n",
    "        torch.cos(torch.log(sigma)/2)\n",
    "        ])"
   ]
  },
  {
   "cell_type": "code",
   "execution_count": null,
   "id": "72eb64b2",
   "metadata": {},
   "outputs": [],
   "source": [
    "class TimeInputMLP(nn.Module):\n",
    "    def __init__(self, dim, hidden_dims):\n",
    "        super().__init__()\n",
    "        layers = []\n",
    "\n",
    "        # for in_dim, out_dim in pairwise(())"
   ]
  },
  {
   "cell_type": "markdown",
   "id": "965fbace",
   "metadata": {},
   "source": []
  },
  {
   "cell_type": "code",
   "execution_count": null,
   "id": "6307c52d",
   "metadata": {},
   "outputs": [],
   "source": []
  },
  {
   "cell_type": "code",
   "execution_count": null,
   "metadata": {},
   "outputs": [],
   "source": []
  }
 ],
 "metadata": {
  "kernelspec": {
   "display_name": ".venv",
   "language": "python",
   "name": "python3"
  },
  "language_info": {
   "codemirror_mode": {
    "name": "ipython",
    "version": 3
   },
   "file_extension": ".py",
   "mimetype": "text/x-python",
   "name": "python",
   "nbconvert_exporter": "python",
   "pygments_lexer": "ipython3",
   "version": "3.11.9"
  }
 },
 "nbformat": 4,
 "nbformat_minor": 5
}
