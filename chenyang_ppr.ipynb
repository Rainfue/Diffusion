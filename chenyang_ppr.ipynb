{
 "cells": [
  {
   "cell_type": "markdown",
   "id": "0a12351c",
   "metadata": {},
   "source": [
    "# **Diffusion models from scratch, from a new theoretical perspective**"
   ]
  },
  {
   "cell_type": "markdown",
   "id": "3b4c4180",
   "metadata": {},
   "source": [
    "**Diffusion models trained by:**\n",
    "\n",
    "1. Sampling $x_0 \\sim K$ noise level $\\sigma \\sim [\\sigma_{min},\\sigma_{max}]$, noise $\\epsilon \\sim N(0, I)$\n",
    "2. Generating noisy data $x_{\\sigma} = x_0 + \\sigma \\epsilon$\n",
    "3. Prediction $\\epsilon$ (direction of noise) from $x_{\\sigma}$ by minimizing squared loss"
   ]
  },
  {
   "cell_type": "code",
   "execution_count": 43,
   "id": "213c116d",
   "metadata": {},
   "outputs": [],
   "source": [
    "import math\n",
    "from itertools import pairwise\n",
    "\n",
    "import numpy as np\n",
    "import matplotlib.pyplot as plt\n",
    "\n",
    "import torch\n",
    "from torch import nn\n",
    "from torch.utils.data import TensorDataset, DataLoader\n"
   ]
  },
  {
   "cell_type": "code",
   "execution_count": 54,
   "id": "22e5c7f2",
   "metadata": {},
   "outputs": [],
   "source": [
    "class Schedule():\n",
    "    def __init__(self, sigmas: torch.FloatTensor):\n",
    "        self.sigmas = sigmas\n",
    "\n",
    "    def __getitem__(self, i) -> torch.FloatTensor:\n",
    "        return self.sigmas[i]\n",
    "    \n",
    "    def __len__(self) -> int:\n",
    "        return len(self.sigmas)\n",
    "    \n",
    "    def sample_batch(self, x0: torch.FloatTensor) -> torch.FloatTensor:\n",
    "        return self[torch.randint(len(self), (x0.shape[0],))].to(x0)\n",
    "\n",
    "    # def sample_batch(self, x0:torch.FloatTensor) -> torch.FloatTensor:\n",
    "    #     if type(x0) != torch.FloatTensor:\n",
    "    #         x0 = torch.FloatTensor(x0)\n",
    "    #     return self[torch.randint(len(self), (x0.shape[0],))].to(x0)"
   ]
  },
  {
   "cell_type": "code",
   "execution_count": 55,
   "id": "0747ded0",
   "metadata": {},
   "outputs": [],
   "source": [
    "class ScheduleLogLinear(Schedule):\n",
    "    def __init__(self,\n",
    "                 N: int,\n",
    "                 sigma_min: float = 0.02,\n",
    "                 sigma_max: float = 10):\n",
    "        \n",
    "        super().__init__(torch.logspace(\n",
    "            math.log10(sigma_min), \n",
    "            math.log10(sigma_max), N))"
   ]
  },
  {
   "cell_type": "code",
   "execution_count": 64,
   "id": "6b88f66c",
   "metadata": {},
   "outputs": [],
   "source": [
    "def generate_train_sample(\n",
    "                        x0: torch.FloatTensor,\n",
    "                        schedule: Schedule):\n",
    "    # Ensure x0 is a tensor (unwrap it if DataLoader returns a list/tuple)\n",
    "    if isinstance(x0, (list, tuple)):\n",
    "        x0 = x0[0]  # Assuming the data is the first element\n",
    "\n",
    "    sigma = schedule.sample_batch(x0)\n",
    "    eps = torch.randn_like(x0)\n",
    "    return sigma, eps"
   ]
  },
  {
   "cell_type": "code",
   "execution_count": null,
   "id": "d1df400b",
   "metadata": {},
   "outputs": [],
   "source": [
    "def training_loop(\n",
    "                loader: DataLoader,\n",
    "                model: nn.Module,\n",
    "                schedule: Schedule,\n",
    "                epochs: int = 10000):\n",
    "    \n",
    "    optimizer = torch.optim.Adam(model.parameters())\n",
    "    for _ in range(epochs):\n",
    "        for x0 in loader:\n",
    "            optimizer.zero_grad()\n",
    "            sigma, eps = generate_train_sample(x0, schedule)\n",
    "            print(f'sigma shape: {sigma.shape}')\n",
    "            eps_hat = model(x0 + sigma * eps, sigma)\n",
    "            loss = nn.MSELoss()(eps_hat, eps)\n",
    "            optimizer.backward(loss)\n",
    "            optimizer.step()\n",
    "\n"
   ]
  },
  {
   "cell_type": "code",
   "execution_count": 73,
   "id": "34787730",
   "metadata": {},
   "outputs": [
    {
     "data": {
      "image/png": "[encoded data removed]",
      "text/plain": [
       "<Figure size 640x480 with 1 Axes>"
      ]
     },
     "metadata": {},
     "output_type": "display_data"
    }
   ],
   "source": [
    "def swissroll(n_samples=1000, start=np.pi/2, stop=5*np.pi, noise=0.1):\n",
    "    \"\"\"Generates a 2D Swiss Roll (spiral).\"\"\"\n",
    "    t = np.linspace(start, stop, n_samples)\n",
    "    x = t * np.cos(t)\n",
    "    y = t * np.sin(t)\n",
    "    X = np.column_stack((x, y))\n",
    "    X += noise * np.random.randn(*X.shape)  # Add noise\n",
    "    return X\n",
    "\n",
    "# Generate data\n",
    "X = swissroll(n_samples=100, start=np.pi/2, stop=5*np.pi)\n",
    "\n",
    "# Normalize (optional but recommended)\n",
    "X = (X - X.mean(axis=0)) / X.std(axis=0)\n",
    "\n",
    "# Convert to PyTorch Dataset\n",
    "dataset = TensorDataset(torch.from_numpy(X).float())\n",
    "loader = DataLoader(dataset, batch_size=2048, shuffle=True)\n",
    "\n",
    "# Visualize\n",
    "plt.scatter(X[:, 0], X[:, 1], alpha=0.5)\n",
    "plt.title('Swissroll toy dataset')\n",
    "plt.show()"
   ]
  },
  {
   "cell_type": "markdown",
   "id": "7c903ba8",
   "metadata": {},
   "source": [
    "For this simple dataset, we can implement the denoiser using a `multi-layer perceptron` (MLP)"
   ]
  },
  {
   "cell_type": "code",
   "execution_count": 74,
   "id": "116d9b90",
   "metadata": {},
   "outputs": [],
   "source": [
    "def get_sigma_embeds(sigma):\n",
    "    sigma = sigma.unsqueeze(1)\n",
    "    return torch.cat([\n",
    "        torch.sin(torch.log(sigma)/2),\n",
    "        torch.cos(torch.log(sigma)/2)\n",
    "        ])"
   ]
  },
  {
   "cell_type": "code",
   "execution_count": 75,
   "id": "72eb64b2",
   "metadata": {},
   "outputs": [],
   "source": [
    "class TimeInputMLP(nn.Module):\n",
    "    def __init__(self, dim, hidden_dims):\n",
    "        super().__init__()\n",
    "        layers = []\n",
    "\n",
    "        # for in_dim, out_dim in pairwise(())"
   ]
  },
  {
   "cell_type": "code",
   "execution_count": 76,
   "id": "7e030213",
   "metadata": {},
   "outputs": [],
   "source": [
    "class TimeInputMLP(nn.Module):\n",
    "    def __init__(self, dim, hidden_dims):\n",
    "        super().__init__()\n",
    "        layers = []\n",
    "        for in_dim, out_dim in pairwise((dim + 2,) + hidden_dims):\n",
    "            layers.extend([nn.Linear(in_dim, out_dim), nn.GELU()])\n",
    "        layers.append(nn.Linear(hidden_dims[-1], dim))\n",
    "        self.net = nn.Sequential(*layers)\n",
    "        self.input_dims = (dim,)\n",
    "\n",
    "    def rand_input(self, batchsize):\n",
    "        return torch.randn((batchsize,) + self.input_dims)\n",
    "\n",
    "    def forward(self, x, sigma):\n",
    "        sigma_embeds = get_sigma_embeds(sigma)         # shape: b x 2\n",
    "        nn_input = torch.cat([x, sigma_embeds], dim=1) # shape: b x (dim + 2)\n",
    "        return self.net(nn_input)"
   ]
  },
  {
   "cell_type": "code",
   "execution_count": 77,
   "id": "11352987",
   "metadata": {},
   "outputs": [],
   "source": [
    "model = TimeInputMLP(dim=2, hidden_dims=(16,128,128,128,128,16))\n"
   ]
  },
  {
   "cell_type": "code",
   "execution_count": 78,
   "id": "13e6853c",
   "metadata": {},
   "outputs": [
    {
     "name": "stdout",
     "output_type": "stream",
     "text": [
      "sigma: tensor([1.6791e-01, 5.3387e-02, 2.0324e-01, 4.8398e+00, 1.3352e-01, 1.2036e-02,\n",
      "        2.8662e-01, 9.3657e-01, 1.1151e-02, 2.1116e-01, 4.5328e-01, 1.5556e-01,\n",
      "        1.1906e-01, 2.2177e-02, 2.7588e-01, 8.2151e-03, 4.2452e-02, 1.8626e+00,\n",
      "        9.0147e-01, 6.0863e+00, 1.5136e-02, 2.4870e-02, 4.3158e+00, 4.2452e-02,\n",
      "        8.6769e-01, 9.5712e-03, 8.5832e+00, 1.6162e-01, 1.8322e-02, 9.2125e-03,\n",
      "        2.4870e-02, 1.0331e-02, 1.1460e-01, 1.8829e-01, 2.7588e-01, 2.6844e-02,\n",
      "        3.5072e-02, 2.8975e-02, 2.1116e-01, 1.2036e-02, 8.5350e-03, 4.8926e-01,\n",
      "        4.8926e-01, 2.2792e-01, 8.5832e+00, 1.4569e-02, 2.4601e-01, 3.0603e+00,\n",
      "        5.9868e-02, 1.1778e+00, 7.3257e-03, 8.2151e-03, 2.9778e-01, 7.4475e-01,\n",
      "        2.8975e-02, 1.2992e-02, 1.9351e+00, 2.0888e+00, 2.0105e+00, 5.9222e-01,\n",
      "        1.6610e+00, 3.2142e-01, 4.1541e+00, 5.7625e-02, 2.3679e-01, 8.8673e-03,\n",
      "        2.9456e+00, 5.9868e-02, 1.8124e-01, 3.0937e-01, 2.4336e+00, 1.0733e-02,\n",
      "        1.3352e-01, 1.1778e+00, 1.7445e-01, 1.7445e-01, 1.8626e+00, 1.4811e+00,\n",
      "        7.1684e-01, 3.7448e-01, 8.6769e-01, 6.3233e+00, 2.3679e-01, 3.5072e-02,\n",
      "        6.2199e-02, 2.2792e-01, 3.1275e-02, 9.2125e-03, 4.8398e+00, 1.8829e-01,\n",
      "        5.7625e-02, 4.1994e-01, 5.6387e+00, 2.6554e-01, 8.8673e-03, 1.6974e-02,\n",
      "        6.5326e-03, 5.5465e-02, 1.6162e-01, 1.3352e-01])\n"
     ]
    },
    {
     "ename": "RuntimeError",
     "evalue": "The size of tensor a (100) must match the size of tensor b (2) at non-singleton dimension 1",
     "output_type": "error",
     "traceback": [
      "\u001b[31m---------------------------------------------------------------------------\u001b[39m",
      "\u001b[31mRuntimeError\u001b[39m                              Traceback (most recent call last)",
      "\u001b[36mCell\u001b[39m\u001b[36m \u001b[39m\u001b[32mIn[78]\u001b[39m\u001b[32m, line 2\u001b[39m\n\u001b[32m      1\u001b[39m schedule = ScheduleLogLinear(N=\u001b[32m200\u001b[39m, sigma_min=\u001b[32m0.005\u001b[39m, sigma_max=\u001b[32m10\u001b[39m)\n\u001b[32m----> \u001b[39m\u001b[32m2\u001b[39m trainer  = \u001b[43mtraining_loop\u001b[49m\u001b[43m(\u001b[49m\u001b[43mloader\u001b[49m\u001b[43m,\u001b[49m\u001b[43m \u001b[49m\u001b[43mmodel\u001b[49m\u001b[43m,\u001b[49m\u001b[43m \u001b[49m\u001b[43mschedule\u001b[49m\u001b[43m,\u001b[49m\u001b[43m \u001b[49m\u001b[43mepochs\u001b[49m\u001b[43m=\u001b[49m\u001b[32;43m15000\u001b[39;49m\u001b[43m)\u001b[49m\n\u001b[32m      3\u001b[39m losses   = [ns.loss.item() \u001b[38;5;28;01mfor\u001b[39;00m ns \u001b[38;5;129;01min\u001b[39;00m trainer]\n",
      "\u001b[36mCell\u001b[39m\u001b[36m \u001b[39m\u001b[32mIn[72]\u001b[39m\u001b[32m, line 13\u001b[39m, in \u001b[36mtraining_loop\u001b[39m\u001b[34m(loader, model, schedule, epochs)\u001b[39m\n\u001b[32m     11\u001b[39m sigma, eps = generate_train_sample(x0, schedule)\n\u001b[32m     12\u001b[39m \u001b[38;5;28mprint\u001b[39m(\u001b[33mf\u001b[39m\u001b[33m'\u001b[39m\u001b[33msigma: \u001b[39m\u001b[38;5;132;01m{\u001b[39;00msigma\u001b[38;5;132;01m}\u001b[39;00m\u001b[33m'\u001b[39m)\n\u001b[32m---> \u001b[39m\u001b[32m13\u001b[39m eps_hat = model(x0 + \u001b[43msigma\u001b[49m\u001b[43m \u001b[49m\u001b[43m*\u001b[49m\u001b[43m \u001b[49m\u001b[43meps\u001b[49m, sigma)\n\u001b[32m     14\u001b[39m loss = nn.MSELoss()(eps_hat, eps)\n\u001b[32m     15\u001b[39m optimizer.backward(loss)\n",
      "\u001b[31mRuntimeError\u001b[39m: The size of tensor a (100) must match the size of tensor b (2) at non-singleton dimension 1"
     ]
    }
   ],
   "source": [
    "schedule = ScheduleLogLinear(N=200, sigma_min=0.005, sigma_max=10)\n",
    "trainer  = training_loop(loader, model, schedule, epochs=15000)\n",
    "losses   = [ns.loss.item() for ns in trainer]"
   ]
  },
  {
   "cell_type": "code",
   "execution_count": null,
   "metadata": {},
   "outputs": [
    {
     "data": {
      "text/plain": [
       "tensor([ 1.,  3.,  4., 65., 23.,  4.])"
      ]
     },
     "execution_count": 42,
     "metadata": {},
     "output_type": "execute_result"
    }
   ],
   "source": [
    "a = [1,3,4,65,23,4]\n",
    "a = torch.FloatTensor(a)\n",
    "a"
   ]
  },
  {
   "cell_type": "markdown",
   "id": "965fbace",
   "metadata": {},
   "source": []
  },
  {
   "cell_type": "code",
   "execution_count": null,
   "id": "6307c52d",
   "metadata": {},
   "outputs": [],
   "source": []
  },
  {
   "cell_type": "code",
   "execution_count": null,
   "metadata": {},
   "outputs": [],
   "source": []
  }
 ],
 "metadata": {
  "kernelspec": {
   "display_name": ".venv",
   "language": "python",
   "name": "python3"
  },
  "language_info": {
   "codemirror_mode": {
    "name": "ipython",
    "version": 3
   },
   "file_extension": ".py",
   "mimetype": "text/x-python",
   "name": "python",
   "nbconvert_exporter": "python",
   "pygments_lexer": "ipython3",
   "version": "3.11.9"
  }
 },
 "nbformat": 4,
 "nbformat_minor": 5
}
