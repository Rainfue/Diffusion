{
 "cells": [
  {
   "cell_type": "markdown",
   "id": "210601ce",
   "metadata": {},
   "source": [
    "# **Задание 1. Дискретная марковская цепь**"
   ]
  },
  {
   "cell_type": "markdown",
   "id": "f11ce66b",
   "metadata": {},
   "source": [
    "**Условие:** у нас три состояния $S = {0, 1, 2}$ и на каждом шаге из состояния $i$ мы с вероятностью $1 - \\beta$ остаемся в том эе состоянии, а с вероятностью $\\beta = 0.1$ переходим равновероятно в любое другое состояние"
   ]
  },
  {
   "cell_type": "markdown",
   "id": "cb886b6b",
   "metadata": {},
   "source": [
    "**1. Построение переходной матрицы $P$**"
   ]
  },
  {
   "cell_type": "markdown",
   "id": "301e95ed",
   "metadata": {},
   "source": [
    "Для трех состояний матрица $P$ имеет размер $3 \\times 3$. Элемент $P_{ij} = q(x_i = j | x_{t1} = 1)$.\n",
    "\n",
    "- Если $i = j$, то:\n",
    "$$P_{ij} = 1 - \\beta = 0.9$$\n",
    "\n",
    "- Если $i \\ne j$, то из $i$ перейти в любую из двух других состояний с общей вероятностью $\\beta$, то есть\n",
    "\n",
    "$$P_{ij} = \\frac{\\beta}{2} = \\frac{0.1}{2} = 0.05$$"
   ]
  },
  {
   "cell_type": "markdown",
   "id": "b9135d05",
   "metadata": {},
   "source": [
    "Следовательно:\n",
    "\n",
    "$$ P =\n",
    "\\left(\n",
    "\\begin{matrix}  \n",
    "0.9 & 0.05 & 0.05\\\\  \n",
    "0.05 & 0.9 & 0.05 \\\\\n",
    "0.05 & 0.05 & 0.9 \n",
    "\\end{matrix}\n",
    "\\right)$$ "
   ]
  },
  {
   "cell_type": "markdown",
   "id": "f56add95",
   "metadata": {},
   "source": [
    "**2. Нахожждение станционарного распределения $\\pi$**"
   ]
  },
  {
   "cell_type": "markdown",
   "id": "400d98c3",
   "metadata": {},
   "source": [
    "Станционарное распределение $\\pi = (\\pi_0, \\pi_1, \\pi_2)$ удовлетворяет\n",
    "\n",
    "$$\\pi = \\pi P,   \\sum_{i=0}^2\\pi_i = 1.$$\n",
    "\n",
    "\n",
    "То есть система уровнений:\n",
    "\n",
    "$$\n",
    "\\begin{cases}  \n",
    "    \\pi_0 = 0.9\\pi_0 + 0.05\\pi_1 + 0.05\\pi_2 \\\\  \n",
    "    \\pi_0 = 0.05\\pi_0 + 0.9\\pi_1 + 0.05\\pi_2 \\\\  \n",
    "    \\pi_0 = 0.05\\pi_0 + 0.05\\pi_1 + 0.9\\pi_2 \\\\  \n",
    "    \\pi_0 + \\pi_1 + \\pi_2 = 1  \n",
    "\\end{cases}  \n",
    "$$"
   ]
  },
  {
   "cell_type": "markdown",
   "id": "4a0d0988",
   "metadata": {},
   "source": [
    "Из симметрии видно, что $\\pi_0 = \\pi_1 = \\pi_2$. Тогда\n",
    "\n",
    "$$3\\pi_0 = 1  =>  \\pi_0 = \\frac{1}{3}$$\n",
    "\n",
    "Итак,\n",
    "\n",
    "$$\\pi = \\left(\\frac{1}{3},\\frac{1}{3},\\frac{1}{3}\\right)$$\n",
    "\n"
   ]
  },
  {
   "cell_type": "markdown",
   "id": "12a995e4",
   "metadata": {},
   "source": [
    "---------------------------------\n",
    "**Выводы:**\n",
    "- Переходная матрица\n",
    "\n",
    "$$ P =\n",
    "\\left(\n",
    "\\begin{matrix}  \n",
    "0.9 & 0.05 & 0.05\\\\  \n",
    "0.05 & 0.9 & 0.05 \\\\\n",
    "0.05 & 0.05 & 0.9 \n",
    "\\end{matrix}\n",
    "\\right)$$ \n",
    "\n",
    "- Станционарное распределение\n",
    "\n",
    "$$\\pi = \\left(\\frac{1}{3},\\frac{1}{3},\\frac{1}{3}\\right)$$"
   ]
  },
  {
   "cell_type": "markdown",
   "id": "1fa8a89b",
   "metadata": {},
   "source": [
    "# **Задание 2: Прямая диффузия на MNIST**"
   ]
  },
  {
   "cell_type": "markdown",
   "id": "e3bc0afd",
   "metadata": {},
   "source": [
    "**Цель:** \n",
    "Научиться **добавлять шум к изображениям** шаг за шагом, чтобы симулировать *forward process* в DDPM"
   ]
  },
  {
   "cell_type": "markdown",
   "id": "072bb26b",
   "metadata": {},
   "source": [
    "**DDPM (Denoising Diffusion Probalistic Model)** - это тип генеративной модели предложенной в статье [Ho et al., 2020](https://arxiv.org/abs/2006.11239), которая учится **генерировать данные (например изображения) из случайного шума**, проходя через серию обученных шагов по \"отшумлению\""
   ]
  },
  {
   "cell_type": "code",
   "execution_count": 1,
   "id": "bc0fde4e",
   "metadata": {},
   "outputs": [],
   "source": [
    "import torch"
   ]
  },
  {
   "cell_type": "code",
   "execution_count": null,
   "id": "baae70a0",
   "metadata": {},
   "outputs": [],
   "source": [
    "def q_sample(x0, t, betas):\n",
    "    '''\n",
    "    Добавление шума к изображению x0 на шаге t\n",
    "        Args:\n",
    "            - x0: [batch_size, C, H, W] - исходное изображение\n",
    "            - t: [batch_size] или scalar - текущий шаг\n",
    "            - betas: тензор [T] - шумовые коэффициенты\n",
    "    '''\n",
    "    alpha = 1.0 - betas\n",
    "    alpha_cumprod = torch.cumprod(alpha, dim=0)     # [T]\n",
    "\n",
    "    # Берём sqrt(alpha_cumprod[t]) и sqrt(1 - alpha_cumprod[t])\n",
    "    sqrt_alpha_bar = alpha_cumprod[t] ** 0.5\n",
    "    sqrt_one__alpha_bar = (1 - alpha_cumprod[t]) ** 0.5\n"
   ]
  },
  {
   "cell_type": "markdown",
   "id": "b5f751a4",
   "metadata": {},
   "source": []
  }
 ],
 "metadata": {
  "kernelspec": {
   "display_name": ".venv",
   "language": "python",
   "name": "python3"
  },
  "language_info": {
   "codemirror_mode": {
    "name": "ipython",
    "version": 3
   },
   "file_extension": ".py",
   "mimetype": "text/x-python",
   "name": "python",
   "nbconvert_exporter": "python",
   "pygments_lexer": "ipython3",
   "version": "3.10.11"
  }
 },
 "nbformat": 4,
 "nbformat_minor": 5
}
